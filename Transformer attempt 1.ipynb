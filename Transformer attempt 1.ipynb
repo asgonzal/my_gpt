{
 "cells": [
  {
   "cell_type": "markdown",
   "id": "101c947f",
   "metadata": {},
   "source": [
    "The general idea to start is to make a transformer that I could use to generate text that sounds like something I would write. I am going to start with an attempt that is largely based on tutorials and pytorch functions and my goal is to gradually make the function more my own. I am going to need to compile text that mimicks my style at some point. I can start with publicly available txt files from classics authors, but I will need to find or make txt files of my own writing and writing that sounds similar to mine."
   ]
  },
  {
   "cell_type": "code",
   "execution_count": 54,
   "id": "d684a646",
   "metadata": {},
   "outputs": [],
   "source": [
    "#all the libraries I use\n",
    "import torch"
   ]
  },
  {
   "cell_type": "code",
   "execution_count": 30,
   "id": "a670fcc0",
   "metadata": {},
   "outputs": [
    {
     "name": "stdout",
     "output_type": "stream",
     "text": [
      "First Citizen:\n",
      "Before we proceed any further, hear me speak.\n",
      "\n",
      "All:\n",
      "Speak, speak.\n",
      "\n",
      "First Citizen:\n",
      "You\n"
     ]
    }
   ],
   "source": [
    "# getting and checking the shakespeare works that I have downloaded\n",
    "text = open(\"shakespeare_works.txt\",\"r\", encoding=\"utf-8\").read()\n",
    "print(text[:100])"
   ]
  },
  {
   "cell_type": "markdown",
   "id": "41132423",
   "metadata": {},
   "source": [
    "Tokenization time\n",
    "\n",
    "I will be doing character tokenization at first. Later, it might be good to experiment with subword tokenization"
   ]
  },
  {
   "cell_type": "code",
   "execution_count": 56,
   "id": "5a555abb",
   "metadata": {},
   "outputs": [
    {
     "name": "stdout",
     "output_type": "stream",
     "text": [
      "\n",
      " !$&',-.3:;?ABCDEFGHIJKLMNOPQRSTUVWXYZabcdefghijklmnopqrstuvwxyz\n"
     ]
    },
    {
     "data": {
      "text/plain": [
       "65"
      ]
     },
     "execution_count": 56,
     "metadata": {},
     "output_type": "execute_result"
    }
   ],
   "source": [
    "# text = text.replace(\"\\n\", \" \")\n",
    "tok = sorted(list(set(text))) #there is a newline character in here. i am considering removing it for my purposes later\n",
    "print(\"\".join(tok))\n",
    "len(tok)"
   ]
  },
  {
   "cell_type": "code",
   "execution_count": 57,
   "id": "c8b27c56",
   "metadata": {},
   "outputs": [],
   "source": [
    "# quick encoder and decoder for the characters\n",
    "numtochar = dict(enumerate(tok))\n",
    "chartonum = dict(zip(list(numtochar.values()), list(numtochar.keys())))\n",
    "encode = lambda characters : [chartonum[char] for char in characters] #makes an integer list representation of a string\n",
    "decode = lambda integers : \"\".join([numtochar[ints] for ints in integers]) #makes a string from an integer representation. also affectively removes \\n"
   ]
  },
  {
   "cell_type": "code",
   "execution_count": 58,
   "id": "9b2d416b",
   "metadata": {},
   "outputs": [
    {
     "name": "stdout",
     "output_type": "stream",
     "text": [
      "[20, 17, 24, 24, 27, 12]\n",
      "HELLO?\n"
     ]
    }
   ],
   "source": [
    "print(encode(\"HELLO?\"))\n",
    "print(decode(encode(\"HELLO?\")))"
   ]
  },
  {
   "cell_type": "code",
   "execution_count": 66,
   "id": "c9de552e",
   "metadata": {},
   "outputs": [
    {
     "name": "stdout",
     "output_type": "stream",
     "text": [
      "tensor([18, 47, 56, 57, 58,  1, 15, 47, 58, 47, 64, 43, 52, 10,  0, 14, 43, 44,\n",
      "        53, 56, 43,  1, 61, 43,  1, 54, 56, 53, 41, 43, 43, 42,  1, 39, 52, 63,\n",
      "         1, 44, 59, 56, 58, 46, 43, 56,  6,  1, 46, 43, 39, 56,  1, 51, 43,  1,\n",
      "        57, 54, 43, 39, 49,  8,  0,  0, 13, 50, 50, 10,  0, 31, 54, 43, 39, 49,\n",
      "         6,  1, 57, 54, 43, 39, 49,  8,  0,  0, 18, 47, 56, 57, 58,  1, 15, 47,\n",
      "        58, 47, 64, 43, 52, 10,  0, 37, 53, 59])\n",
      "torch.Size([1115394])\n",
      "torch.int64\n"
     ]
    }
   ],
   "source": [
    "# making a tensor of tokens for the whole dataset using pytorch\n",
    "tensor_all = torch.tensor(encode(text)) #could include other arguments in the furture\n",
    "print(tensor_all[:100])\n",
    "print(tensor_all.size())\n",
    "print(tensor_all.dtype)"
   ]
  },
  {
   "cell_type": "code",
   "execution_count": 68,
   "id": "3b93640c",
   "metadata": {},
   "outputs": [],
   "source": [
    "# 70-30 rule for training and testing data\n",
    "split_at = int(0.7 * len(tensor_all))\n",
    "training_tensor = tensor_all[:split_at]\n",
    "testing_tensor = tensor_all[split_at:]"
   ]
  },
  {
   "cell_type": "code",
   "execution_count": null,
   "id": "16233460",
   "metadata": {},
   "outputs": [],
   "source": []
  }
 ],
 "metadata": {
  "kernelspec": {
   "display_name": "Python 3",
   "language": "python",
   "name": "python3"
  },
  "language_info": {
   "codemirror_mode": {
    "name": "ipython",
    "version": 3
   },
   "file_extension": ".py",
   "mimetype": "text/x-python",
   "name": "python",
   "nbconvert_exporter": "python",
   "pygments_lexer": "ipython3",
   "version": "3.8.8"
  }
 },
 "nbformat": 4,
 "nbformat_minor": 5
}
